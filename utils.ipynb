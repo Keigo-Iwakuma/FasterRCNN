{
 "cells": [
  {
   "cell_type": "code",
   "execution_count": 1,
   "metadata": {},
   "outputs": [],
   "source": [
    "import numpy as np\n",
    "import torch\n",
    "\n",
    "from detectron2.utils.logger import setup_logger\n",
    "setup_logger()\n",
    "\n",
    "from detectron2.config import get_cfg\n",
    "from detectron2 import model_zoo"
   ]
  },
  {
   "cell_type": "code",
   "execution_count": 2,
   "metadata": {},
   "outputs": [],
   "source": [
    "cfg = get_cfg()\n",
    "cfg.merge_from_file(model_zoo.get_config_file('COCO-InstanceSegmentation/mask_rcnn_R_50_FPN_3x.yaml'))\n",
    "cfg.MODEL.ROI_HEADS.SCORE_THRES_TEST = 0.5\n",
    "cfg.MODEL.WEIGHTS = model_zoo.get_checkpoint_url('COCO-InstanceSegmentation/mask_rcnn_R_50_FPN_3x.yaml')"
   ]
  },
  {
   "cell_type": "code",
   "execution_count": 5,
   "metadata": {},
   "outputs": [
    {
     "name": "stdout",
     "output_type": "stream",
     "text": [
      "META_ARCHITECTURE: GeneralizedRCNN\n"
     ]
    }
   ],
   "source": [
    "meta_arch = cfg.MODEL.META_ARCHITECTURE\n",
    "print(f'META_ARCHITECTURE: {meta_arch}')"
   ]
  },
  {
   "cell_type": "code",
   "execution_count": 8,
   "metadata": {},
   "outputs": [
    {
     "name": "stdout",
     "output_type": "stream",
     "text": [
      "input_format : BGR\n",
      "vis_period   : 0\n",
      "pixel_mean   : [103.53, 116.28, 123.675]\n",
      "pixel_std    : [1.0, 1.0, 1.0]\n"
     ]
    }
   ],
   "source": [
    "print(f'input_format : {cfg.INPUT.FORMAT}')\n",
    "print(f'vis_period   : {cfg.VIS_PERIOD}')\n",
    "print(f'pixel_mean   : {cfg.MODEL.PIXEL_MEAN}')\n",
    "print(f'pixel_std    : {cfg.MODEL.PIXEL_STD}')"
   ]
  },
  {
   "cell_type": "code",
   "execution_count": 9,
   "metadata": {},
   "outputs": [
    {
     "name": "stdout",
     "output_type": "stream",
     "text": [
      "backbone_name : build_resnet_fpn_backbone\n"
     ]
    }
   ],
   "source": [
    "print(f'backbone_name : {cfg.MODEL.BACKBONE.NAME}')"
   ]
  },
  {
   "cell_type": "code",
   "execution_count": 10,
   "metadata": {},
   "outputs": [],
   "source": [
    "from collections import namedtuple\n",
    "\n",
    "class ShapeSpec(namedtuple(\"_ShapeSpec\", [\"channels\", \"height\", \"width\", \"stride\"])):\n",
    "    \"\"\"\n",
    "    A simple structure that containes basic shpae specification about a tensor.\n",
    "    It is often used as the auxiliary inputs/outputs of models,\n",
    "    to complement the lack of shape inference ability among pytorch modules.\n",
    "\n",
    "    Attributes:\n",
    "        channels:\n",
    "        height:\n",
    "        width:\n",
    "        stride:\n",
    "    \"\"\"\n",
    "\n",
    "    def __new__(cls, channels=None, height=None, width=None, stride=None):\n",
    "        return super().__new__(cls, channels, height, width, stride)"
   ]
  },
  {
   "cell_type": "code",
   "execution_count": 11,
   "metadata": {},
   "outputs": [
    {
     "data": {
      "text/plain": [
       "ShapeSpec(channels=3, height=None, width=None, stride=None)"
      ]
     },
     "execution_count": 11,
     "metadata": {},
     "output_type": "execute_result"
    }
   ],
   "source": [
    "input_shape = ShapeSpec(channels=len(cfg.MODEL.PIXEL_MEAN))\n",
    "input_shape"
   ]
  },
  {
   "cell_type": "code",
   "execution_count": 12,
   "metadata": {},
   "outputs": [],
   "source": [
    "in_features = cfg.MODEL.FPN.IN_FEATURES\n",
    "out_channels = cfg.MODEL.FPN.OUT_CHANNELS"
   ]
  },
  {
   "cell_type": "code",
   "execution_count": 13,
   "metadata": {},
   "outputs": [
    {
     "name": "stdout",
     "output_type": "stream",
     "text": [
      "norm: FrozenBN\n",
      "stem_out_channels: 64\n"
     ]
    }
   ],
   "source": [
    "print(f'norm: {cfg.MODEL.RESNETS.NORM}')\n",
    "print(f'stem_out_channels: {cfg.MODEL.RESNETS.STEM_OUT_CHANNELS}')"
   ]
  },
  {
   "cell_type": "code",
   "execution_count": 14,
   "metadata": {},
   "outputs": [
    {
     "name": "stdout",
     "output_type": "stream",
     "text": [
      "freeze_at: 2\n",
      "out_features: ['res2', 'res3', 'res4', 'res5']\n",
      "depth: 50\n",
      "num_groups: 1\n",
      "width_per_group: 64\n",
      "in_channels: 64\n",
      "out_channels: 256\n",
      "stride_in_1x1: True\n",
      "res5_dilation: 1\n",
      "deform_on_per_stage: [False, False, False, False]\n",
      "deform_modulated: False\n",
      "deform_num_groups: 1\n"
     ]
    }
   ],
   "source": [
    "print(f'freeze_at: {cfg.MODEL.BACKBONE.FREEZE_AT}')\n",
    "print(f'out_features: {cfg.MODEL.RESNETS.OUT_FEATURES}')\n",
    "print(f'depth: {cfg.MODEL.RESNETS.DEPTH}')\n",
    "print(f'num_groups: {cfg.MODEL.RESNETS.NUM_GROUPS}')\n",
    "print(f'width_per_group: {cfg.MODEL.RESNETS.WIDTH_PER_GROUP}')\n",
    "print(f'in_channels: {cfg.MODEL.RESNETS.STEM_OUT_CHANNELS}')\n",
    "print(f'out_channels: {cfg.MODEL.RESNETS.RES2_OUT_CHANNELS}')\n",
    "print(f'stride_in_1x1: {cfg.MODEL.RESNETS.STRIDE_IN_1X1}')\n",
    "print(f'res5_dilation: {cfg.MODEL.RESNETS.RES5_DILATION}')\n",
    "print(f'deform_on_per_stage: {cfg.MODEL.RESNETS.DEFORM_ON_PER_STAGE}')\n",
    "print(f'deform_modulated: {cfg.MODEL.RESNETS.DEFORM_MODULATED}')\n",
    "print(f'deform_num_groups: {cfg.MODEL.RESNETS.DEFORM_NUM_GROUPS}')"
   ]
  },
  {
   "cell_type": "code",
   "execution_count": null,
   "metadata": {},
   "outputs": [],
   "source": [
    "def build_resnet_backbone(cfg, input_shape):\n",
    "    \"\"\"\n",
    "    Create a ResNet instance from config.\n",
    "\n",
    "    Returns:\n",
    "        ResNet: a :class:`ResNet` instance.\n",
    "    \"\"\"\n",
    "    norm\n"
   ]
  },
  {
   "cell_type": "code",
   "execution_count": 18,
   "metadata": {},
   "outputs": [],
   "source": [
    "import yaml\n",
    "\n",
    "with open('config.yaml', 'w') as f:\n",
    "    f.write(cfg.dump())"
   ]
  },
  {
   "cell_type": "code",
   "execution_count": 2,
   "metadata": {},
   "outputs": [],
   "source": [
    "import torch"
   ]
  },
  {
   "cell_type": "code",
   "execution_count": 8,
   "metadata": {},
   "outputs": [],
   "source": [
    "conv2d = torch.nn.Conv2d(\n",
    "    in_channels=3,\n",
    "    out_channels=3,\n",
    "    kernel_size=1,\n",
    "    stride=2,\n",
    "    bias=False,\n",
    ")"
   ]
  },
  {
   "cell_type": "code",
   "execution_count": 9,
   "metadata": {},
   "outputs": [
    {
     "data": {
      "text/plain": [
       "torch.Size([1, 3, 2, 2])"
      ]
     },
     "execution_count": 9,
     "metadata": {},
     "output_type": "execute_result"
    }
   ],
   "source": [
    "input2d = torch.ones([1, 3, 4, 4])\n",
    "output2d = conv2d(input2d)\n",
    "output2d.shape"
   ]
  },
  {
   "cell_type": "code",
   "execution_count": 10,
   "metadata": {},
   "outputs": [],
   "source": [
    "out = torch.chunk(output2d, 3, dim=1)"
   ]
  },
  {
   "cell_type": "code",
   "execution_count": 11,
   "metadata": {},
   "outputs": [
    {
     "data": {
      "text/plain": [
       "(tensor([[[[-0.9640, -0.9640],\n",
       "           [-0.9640, -0.9640]]]], grad_fn=<SplitBackward0>),\n",
       " tensor([[[[0.9791, 0.9791],\n",
       "           [0.9791, 0.9791]]]], grad_fn=<SplitBackward0>),\n",
       " tensor([[[[0.8470, 0.8470],\n",
       "           [0.8470, 0.8470]]]], grad_fn=<SplitBackward0>))"
      ]
     },
     "execution_count": 11,
     "metadata": {},
     "output_type": "execute_result"
    }
   ],
   "source": [
    "out"
   ]
  },
  {
   "cell_type": "code",
   "execution_count": 13,
   "metadata": {},
   "outputs": [
    {
     "name": "stdout",
     "output_type": "stream",
     "text": [
      "offset[0][0] = -1\n",
      "offset[0][1] = -1\n",
      "offset[1][0] = 0\n",
      "offset[1][1] = -1\n",
      "offset[2][0] = 1\n",
      "offset[2][1] = -1\n",
      "offset[3][0] = -1\n",
      "offset[3][1] = 0\n",
      "offset[4][0] = 0\n",
      "offset[4][1] = 0\n",
      "offset[5][0] = 1\n",
      "offset[5][1] = 0\n",
      "offset[6][0] = -1\n",
      "offset[6][1] = 1\n",
      "offset[7][0] = 0\n",
      "offset[7][1] = 1\n",
      "offset[8][0] = 1\n",
      "offset[8][1] = 1\n"
     ]
    }
   ],
   "source": [
    "import numpy as np\n",
    "\n",
    "d = 2\n",
    "base = 3\n",
    "\n",
    "offset = np.full((base**d, d), -1)\n",
    "\n",
    "for i in range(base ** d):\n",
    "    tmp_i = i\n",
    "    for j in range(d):\n",
    "        print(f\"offset[{i}][{j}] = {tmp_i % base - 1}\")\n",
    "        tmp_i = tmp_i // base\n"
   ]
  },
  {
   "cell_type": "code",
   "execution_count": null,
   "metadata": {},
   "outputs": [],
   "source": []
  }
 ],
 "metadata": {
  "interpreter": {
   "hash": "d4d1e4263499bec80672ea0156c357c1ee493ec2b1c70f0acce89fc37c4a6abe"
  },
  "kernelspec": {
   "display_name": "Python 3.8.12 64-bit ('base': conda)",
   "language": "python",
   "name": "python3"
  },
  "language_info": {
   "codemirror_mode": {
    "name": "ipython",
    "version": 3
   },
   "file_extension": ".py",
   "mimetype": "text/x-python",
   "name": "python",
   "nbconvert_exporter": "python",
   "pygments_lexer": "ipython3",
   "version": "3.8.12"
  },
  "orig_nbformat": 4
 },
 "nbformat": 4,
 "nbformat_minor": 2
}
